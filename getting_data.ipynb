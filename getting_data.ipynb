{
 "cells": [
  {
   "cell_type": "raw",
   "metadata": {},
   "source": [
    "# getting data from one issue as a json file\n",
    "import requests as r\n",
    "\n",
    "api_url = \"https://jira.atlassian.com/rest/api/latest/issue/JSWSERVER-16791\"\n",
    "\n",
    "params = {\n",
    "    \n",
    "}\n",
    "\n",
    "res = r.get(api_url)\n",
    "for i in res.json():\n",
    "    print(i)\n",
    "print(res.json())\n"
   ]
  },
  {
   "cell_type": "code",
   "execution_count": 30,
   "metadata": {},
   "outputs": [],
   "source": [
    "from jira import JIRA\n",
    "\n",
    "#connection to server\n",
    "jira = JIRA(server=\"https://jira.atlassian.com\")\n",
    "\n",
    "#connection to project\n",
    "js_project = jira.project('JRASERVER')"
   ]
  },
  {
   "cell_type": "code",
   "execution_count": 31,
   "metadata": {},
   "outputs": [],
   "source": [
    "#getting an issue as object\n",
    "\n",
    "issue = jira.issue(\"JRASERVER-72478\")"
   ]
  },
  {
   "cell_type": "code",
   "execution_count": 32,
   "metadata": {},
   "outputs": [],
   "source": [
    "#getting data from one issue for issue table\n",
    "\n",
    "issuetype = issue.fields.issuetype\n",
    "summary = issue.fields.summary\n",
    "status = issue.fields.status\n",
    "priority = issue.fields.priority\n",
    "resolution = issue.fields.resolution\n",
    "description = issue.fields.description\n",
    "votes = issue.fields.votes\n",
    "watchers = jira.watchers(issue).watchCount\n",
    "created = issue.fields.created\n",
    "updated = issue.fields.updated\n",
    "\n",
    "\n",
    "\n",
    "#getting data from one issue for versions table\n",
    "\n",
    "fix_version = issue.fields.fixVersions\n",
    "affect_version = issue.fields.versions"
   ]
  },
  {
   "cell_type": "code",
   "execution_count": null,
   "metadata": {},
   "outputs": [],
   "source": [
    "print(issuetype,'\\n',\n",
    "      summary,'\\n', \n",
    "      status,'\\n',\n",
    "      priority,'\\n', \n",
    "      resolution,'\\n',\n",
    "      description, '\\n',\n",
    "      votes,'\\n', \n",
    "      watchers,'\\n', \n",
    "      created,'\\n', \n",
    "      updated,'\\n', \n",
    "      fix_version,'\\n', \n",
    "     affect_version)"
   ]
  },
  {
   "cell_type": "code",
   "execution_count": 35,
   "metadata": {},
   "outputs": [],
   "source": [
    "#getting data from one issue for links table\n",
    "links = issue.fields.issuelinks\n",
    "for link in links:\n",
    "    linktype = link.type\n",
    "    outwardIssue = link.outwardIssue\n",
    "    print(linktype, '\\n', outwardIssue)\n",
    "    print()"
   ]
  },
  {
   "cell_type": "code",
   "execution_count": 36,
   "metadata": {},
   "outputs": [],
   "source": [
    "#getting all comments from issue for comment table\n",
    "\n",
    "for i in issue.fields.comment.comments:\n",
    "    comment_content = i.body\n",
    "    comment_author = i.author\n",
    "    comment_date = i.created\n",
    "    print(comment_content, '\\n', comment_author,'\\n', comment_date )\n",
    "    print()"
   ]
  },
  {
   "cell_type": "code",
   "execution_count": null,
   "metadata": {},
   "outputs": [],
   "source": [
    "#getting all JSWSERVER project versions\n",
    "\n",
    "versions = jira.project_versions(js_project)\n",
    "print([v.name for v in reversed(versions)])\n",
    "priorities = js_project.name"
   ]
  },
  {
   "cell_type": "code",
   "execution_count": null,
   "metadata": {
    "scrolled": true
   },
   "outputs": [],
   "source": [
    "#getting defects by filters\n",
    "\n",
    "issues = jira.search_issues('project = JRASERVER AND type = Bug ', maxResults=50)\n",
    "print(issues)"
   ]
  },
  {
   "cell_type": "code",
   "execution_count": null,
   "metadata": {},
   "outputs": [],
   "source": [
    "#getting suggestions by filters\n",
    "\n",
    "issues = jira.search_issues('project = JRASERVER AND issuetype = Suggestion', maxResults=50)\n",
    "print(issues)"
   ]
  },
  {
   "cell_type": "code",
   "execution_count": null,
   "metadata": {},
   "outputs": [],
   "source": [
    "#getting vulnerability by filters\n",
    "\n",
    "issues = jira.search_issues('project = JRASERVER AND issuetype = \"Public Security Vulnerability\"', maxResults=50)\n",
    "print(issues)"
   ]
  },
  {
   "cell_type": "code",
   "execution_count": null,
   "metadata": {},
   "outputs": [],
   "source": []
  }
 ],
 "metadata": {
  "kernelspec": {
   "display_name": "Python 3",
   "language": "python",
   "name": "python3"
  },
  "language_info": {
   "codemirror_mode": {
    "name": "ipython",
    "version": 3
   },
   "file_extension": ".py",
   "mimetype": "text/x-python",
   "name": "python",
   "nbconvert_exporter": "python",
   "pygments_lexer": "ipython3",
   "version": "3.8.3"
  }
 },
 "nbformat": 4,
 "nbformat_minor": 4
}
